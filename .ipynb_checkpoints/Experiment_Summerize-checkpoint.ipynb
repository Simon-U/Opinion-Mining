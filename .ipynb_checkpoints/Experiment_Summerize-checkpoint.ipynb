{
 "cells": [
  {
   "cell_type": "code",
   "execution_count": 5,
   "metadata": {},
   "outputs": [],
   "source": [
    "from nltk.corpus import stopwords\n",
    "from nltk.cluster.util import cosine_distance\n",
    "import numpy as np\n",
    "import networkx as nx\n",
    " \n",
    "def read_article(file_name):\n",
    "    #file = open(file_name, \"r\")\n",
    "    #filedata = file.readlines()\n",
    "    article = file_name.split(\". \")\n",
    "    sentences = []\n",
    "\n",
    "    for sentence in article:\n",
    "        print(sentence)\n",
    "        sentences.append(sentence.replace(\"[^a-zA-Z]\", \" \").split(\" \"))\n",
    "    sentences.pop() \n",
    "    \n",
    "    return sentences\n",
    "\n",
    "def sentence_similarity(sent1, sent2, stopwords=None):\n",
    "    if stopwords is None:\n",
    "        stopwords = []\n",
    " \n",
    "    sent1 = [w.lower() for w in sent1]\n",
    "    sent2 = [w.lower() for w in sent2]\n",
    " \n",
    "    all_words = list(set(sent1 + sent2))\n",
    " \n",
    "    vector1 = [0] * len(all_words)\n",
    "    vector2 = [0] * len(all_words)\n",
    " \n",
    "    # build the vector for the first sentence\n",
    "    for w in sent1:\n",
    "        if w in stopwords:\n",
    "            continue\n",
    "        vector1[all_words.index(w)] += 1\n",
    " \n",
    "    # build the vector for the second sentence\n",
    "    for w in sent2:\n",
    "        if w in stopwords:\n",
    "            continue\n",
    "        vector2[all_words.index(w)] += 1\n",
    " \n",
    "    return 1 - cosine_distance(vector1, vector2)\n",
    " \n",
    "def build_similarity_matrix(sentences, stop_words):\n",
    "    # Create an empty similarity matrix\n",
    "    similarity_matrix = np.zeros((len(sentences), len(sentences)))\n",
    " \n",
    "    for idx1 in range(len(sentences)):\n",
    "        for idx2 in range(len(sentences)):\n",
    "            if idx1 == idx2: #ignore if both are same sentences\n",
    "                continue \n",
    "            similarity_matrix[idx1][idx2] = sentence_similarity(sentences[idx1], sentences[idx2], stop_words)\n",
    "\n",
    "    return similarity_matrix\n",
    "\n",
    "\n",
    "def generate_summary(file_name, top_n=5):\n",
    "    stop_words = stopwords.words('english')\n",
    "    summarize_text = []\n",
    "\n",
    "    # Step 1 - Read text anc split it\n",
    "    sentences =  read_article(file_name)\n",
    "\n",
    "    # Step 2 - Generate Similary Martix across sentences\n",
    "    sentence_similarity_martix = build_similarity_matrix(sentences, stop_words)\n",
    "\n",
    "    # Step 3 - Rank sentences in similarity martix\n",
    "    sentence_similarity_graph = nx.from_numpy_array(sentence_similarity_martix)\n",
    "    scores = nx.pagerank(sentence_similarity_graph)\n",
    "\n",
    "    # Step 4 - Sort the rank and pick top sentences\n",
    "    ranked_sentence = sorted(((scores[i],s) for i,s in enumerate(sentences)), reverse=True)    \n",
    "    print(\"Indexes of top ranked_sentence order are \", ranked_sentence)    \n",
    "\n",
    "    for i in range(top_n):\n",
    "      summarize_text.append(\" \".join(ranked_sentence[i][1]))\n",
    "\n",
    "    # Step 5 - Offcourse, output the summarize texr\n",
    "    print(\"Summarize Text: \\n\", \". \".join(summarize_text))\n",
    "\n",
    "# let's begin\n",
    "#generate_summary( , 2)"
   ]
  },
  {
   "cell_type": "code",
   "execution_count": 7,
   "metadata": {},
   "outputs": [
    {
     "name": "stdout",
     "output_type": "stream",
     "text": [
      "ok nothing special charge diamond member hilton decide chain shoot 20th anniversary seattle , start book suite pay extra website description not , suite bedroom bathroom standard hotel room , take print reservation desk show say thing like tv couch ect desk clerk tell oh mixed suites description kimpton website sorry free breakfast , get kid , embassy suit sit room bathroom bedroom unlike kimpton call suite , 5 day stay offer correct false advertising , send kimpton preferred guest website email ask failure provide suite advertise website reservation description furnish hard copy reservation printout website desk manager duty do not reply solution , send email trip guest survey do not follow email mail , guess tell concerned guest \n",
      "the staff range indifferent not helpful , ask desk good breakfast spot neighborhood hood tell no hotel , gee good breakfast spot seattle 1/2 block away convenient hotel do not know exist , arrive late night 11 pm inside run bellman busy chat cell phone help bag \n",
      "prior arrival email hotel inform 20th anniversary half really picky want make sure good , get nice email say like deliver bottle champagne chocolate cover strawberry room arrival celebrate , tell need foam pillow , arrival no champagne strawberry no foam pillow great room view alley high rise build good not well housekeeping staff clean room property , impress left morning shopping room get short trip 2 hour , bed comfortable \n",
      "not good ac - heat control 4 x 4 inch screen bring green shine directly eye night , light sensitive tape control \n",
      "this not 4 start hotel clean business hotel super high rate , well chain hotel seattle ,\n",
      "Indexes of top ranked_sentence order are  [(0.28188012243745486, ['ok', 'nothing', 'special', 'charge', 'diamond', 'member', 'hilton', 'decide', 'chain', 'shoot', '20th', 'anniversary', 'seattle', ',', 'start', 'book', 'suite', 'pay', 'extra', 'website', 'description', 'not', ',', 'suite', 'bedroom', 'bathroom', 'standard', 'hotel', 'room', ',', 'take', 'print', 'reservation', 'desk', 'show', 'say', 'thing', 'like', 'tv', 'couch', 'ect', 'desk', 'clerk', 'tell', 'oh', 'mixed', 'suites', 'description', 'kimpton', 'website', 'sorry', 'free', 'breakfast', ',', 'get', 'kid', ',', 'embassy', 'suit', 'sit', 'room', 'bathroom', 'bedroom', 'unlike', 'kimpton', 'call', 'suite', ',', '5', 'day', 'stay', 'offer', 'correct', 'false', 'advertising', ',', 'send', 'kimpton', 'preferred', 'guest', 'website', 'email', 'ask', 'failure', 'provide', 'suite', 'advertise', 'website', 'reservation', 'description', 'furnish', 'hard', 'copy', 'reservation', 'printout', 'website', 'desk', 'manager', 'duty', 'do', 'not', 'reply', 'solution', ',', 'send', 'email', 'trip', 'guest', 'survey', 'do', 'not', 'follow', 'email', 'mail', ',', 'guess', 'tell', 'concerned', 'guest', '']), (0.28040620917969705, ['prior', 'arrival', 'email', 'hotel', 'inform', '20th', 'anniversary', 'half', 'really', 'picky', 'want', 'make', 'sure', 'good', ',', 'get', 'nice', 'email', 'say', 'like', 'deliver', 'bottle', 'champagne', 'chocolate', 'cover', 'strawberry', 'room', 'arrival', 'celebrate', ',', 'tell', 'need', 'foam', 'pillow', ',', 'arrival', 'no', 'champagne', 'strawberry', 'no', 'foam', 'pillow', 'great', 'room', 'view', 'alley', 'high', 'rise', 'build', 'good', 'not', 'well', 'housekeeping', 'staff', 'clean', 'room', 'property', ',', 'impress', 'left', 'morning', 'shopping', 'room', 'get', 'short', 'trip', '2', 'hour', ',', 'bed', 'comfortable', '']), (0.2709234541860992, ['the', 'staff', 'range', 'indifferent', 'not', 'helpful', ',', 'ask', 'desk', 'good', 'breakfast', 'spot', 'neighborhood', 'hood', 'tell', 'no', 'hotel', ',', 'gee', 'good', 'breakfast', 'spot', 'seattle', '1/2', 'block', 'away', 'convenient', 'hotel', 'do', 'not', 'know', 'exist', ',', 'arrive', 'late', 'night', '11', 'pm', 'inside', 'run', 'bellman', 'busy', 'chat', 'cell', 'phone', 'help', 'bag', '']), (0.1667902141967488, ['not', 'good', 'ac', '-', 'heat', 'control', '4', 'x', '4', 'inch', 'screen', 'bring', 'green', 'shine', 'directly', 'eye', 'night', ',', 'light', 'sensitive', 'tape', 'control', ''])]\n",
      "Summarize Text: \n",
      " ok nothing special charge diamond member hilton decide chain shoot 20th anniversary seattle , start book suite pay extra website description not , suite bedroom bathroom standard hotel room , take print reservation desk show say thing like tv couch ect desk clerk tell oh mixed suites description kimpton website sorry free breakfast , get kid , embassy suit sit room bathroom bedroom unlike kimpton call suite , 5 day stay offer correct false advertising , send kimpton preferred guest website email ask failure provide suite advertise website reservation description furnish hard copy reservation printout website desk manager duty do not reply solution , send email trip guest survey do not follow email mail , guess tell concerned guest \n"
     ]
    }
   ],
   "source": [
    "generate_summary('ok nothing special charge diamond member hilton decide chain shoot 20th anniversary seattle , start book suite pay extra website description not , suite bedroom bathroom standard hotel room , take print reservation desk show say thing like tv couch ect desk clerk tell oh mixed suites description kimpton website sorry free breakfast , get kid , embassy suit sit room bathroom bedroom unlike kimpton call suite , 5 day stay offer correct false advertising , send kimpton preferred guest website email ask failure provide suite advertise website reservation description furnish hard copy reservation printout website desk manager duty do not reply solution , send email trip guest survey do not follow email mail , guess tell concerned guest . the staff range indifferent not helpful , ask desk good breakfast spot neighborhood hood tell no hotel , gee good breakfast spot seattle 1/2 block away convenient hotel do not know exist , arrive late night 11 pm inside run bellman busy chat cell phone help bag . prior arrival email hotel inform 20th anniversary half really picky want make sure good , get nice email say like deliver bottle champagne chocolate cover strawberry room arrival celebrate , tell need foam pillow , arrival no champagne strawberry no foam pillow great room view alley high rise build good not well housekeeping staff clean room property , impress left morning shopping room get short trip 2 hour , bed comfortable . not good ac - heat control 4 x 4 inch screen bring green shine directly eye night , light sensitive tape control . this not 4 start hotel clean business hotel super high rate , well chain hotel seattle ,',1)"
   ]
  },
  {
   "cell_type": "code",
   "execution_count": null,
   "metadata": {},
   "outputs": [],
   "source": []
  }
 ],
 "metadata": {
  "kernelspec": {
   "display_name": "Python 3",
   "language": "python",
   "name": "python3"
  },
  "language_info": {
   "codemirror_mode": {
    "name": "ipython",
    "version": 3
   },
   "file_extension": ".py",
   "mimetype": "text/x-python",
   "name": "python",
   "nbconvert_exporter": "python",
   "pygments_lexer": "ipython3",
   "version": "3.7.3"
  }
 },
 "nbformat": 4,
 "nbformat_minor": 4
}
